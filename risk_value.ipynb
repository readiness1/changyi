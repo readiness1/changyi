{
 "cells": [
  {
   "cell_type": "markdown",
   "metadata": {},
   "source": [
    "필요한 클래스, 라이브러리"
   ]
  },
  {
   "cell_type": "code",
   "execution_count": 1,
   "metadata": {},
   "outputs": [],
   "source": [
    "from bs4 import BeautifulSoup\n",
    "import requests\n",
    "import pandas as pd\n",
    "from konlpy.tag import Okt\n",
    "from sklearn.feature_extraction.text import CountVectorizer\n",
    "from sklearn.feature_extraction.text import TfidfVectorizer\n",
    "from sklearn.linear_model import LogisticRegression\n",
    "import numpy as np\n",
    "from transformers import BertTokenizer, TFBertForSequenceClassification\n",
    "from sklearn.preprocessing import LabelEncoder\n",
    "from sklearn.preprocessing import OneHotEncoder\n",
    "from sklearn.cluster import KMeans\n",
    "from transformers import BertTokenizer, TFBertModel\n",
    "import tensorflow as tf\n",
    "from sklearn.decomposition import PCA\n",
    "import matplotlib.pyplot as plt\n",
    "import os\n",
    "import torch\n",
    "import warnings\n",
    "from transformers import BertModel, BertTokenizer\n",
    "os.environ['KMP_DUPLICATE_LIB_OK'] = 'TRUE'\n",
    "os.environ['OMP_NUM_THREADS'] = '1'\n",
    "\n",
    "\n",
    "okt=Okt()\n",
    "vectorizer=TfidfVectorizer()"
   ]
  },
  {
   "cell_type": "markdown",
   "metadata": {},
   "source": [
    "웹 크롤링해서 Df 만들기"
   ]
  },
  {
   "cell_type": "code",
   "execution_count": 2,
   "metadata": {},
   "outputs": [
    {
     "name": "stdout",
     "output_type": "stream",
     "text": [
      "HTML content has been downloaded and saved to disaster_message.html.\n",
      "  number  \\\n",
      "0   None   \n",
      "1  11993   \n",
      "2  11992   \n",
      "3  11991   \n",
      "4  11990   \n",
      "\n",
      "                                                                                          text  \\\n",
      "0                                                                                         None   \n",
      "1                        폭염경보 발효중. 야외 활동을 자제하세요, 충분히 물을 마시고 그늘에서 휴식을 취하는 등 건강관리에 유의하세요. [함평군]N   \n",
      "2  폭염경보 발효 중입니다. 물을 자주 마시고 개인 건강에 유의하시기 바라며, 야외활동을 자제하고 현장 근로자들은 무더운 낮시간에 휴식하여 주시기 바랍니다.[창원시]N   \n",
      "3      폭염경보 발효 중. 날이 더운 한낮에는 야외활동(논, 밭, 공사장 등)을 자제하시고 충분한 수분 섭취 및 휴식으로 건강관리에 유의하시기 바랍니다.[해남군]N   \n",
      "4  보성군 폭염경보 발효 중▲논·밭·건설현장 야외활동 자제▲이웃간 안부확인▲무더위쉼터 이용▲폭염 안전수칙(물, 그늘, 휴식)준수 등 건강관리에 유의바랍니다.[보성군]N   \n",
      "\n",
      "                  time  \n",
      "0                 None  \n",
      "1  2024/07/29 11:45:41  \n",
      "2  2024/07/29 11:29:36  \n",
      "3  2024/07/29 11:29:06  \n",
      "4  2024/07/29 11:19:41  \n"
     ]
    }
   ],
   "source": [
    "url=\"https://www.safetydata.go.kr/disaster-data/disasterNotification?searchStartDttm=&searchEndDttm=&keyword=&orderBy=&currentPage=1&cntPerPage=12000&pageSize=12000\"\n",
    "\n",
    "response=requests.get(url)\n",
    "\n",
    "if response.status_code == 200:\n",
    "    file_path = \"disaster_message.html\"\n",
    "\n",
    "    with open(file_path, \"w\", encoding=\"utf-8\") as file:\n",
    "        file.write(response.text)\n",
    "\n",
    "    print(f\"HTML content has been downloaded and saved to {file_path}.\")\n",
    "else:\n",
    "    print(f\"Failed to retrieve the page. Status code: {response.status_code}\")\n",
    "\n",
    "filename=\"disaster_message.html\"\n",
    "html=\"\"\n",
    "with open (filename, 'r', encoding='UTF-8') as file:\n",
    "    for line in file:\n",
    "        html+=line\n",
    "\n",
    "soup=BeautifulSoup(html,'lxml')\n",
    "\n",
    "rows=soup.find_all('tr')\n",
    "data_list=[]\n",
    "\n",
    "for row in rows:\n",
    "    cols=row.find_all('td')\n",
    "    cols=[ele.text.strip() for ele in cols]\n",
    "    data_list.append(cols)\n",
    "\n",
    "df=pd.DataFrame(data_list, columns=['number','text','time'])\n",
    "\n",
    "pd.set_option('display.max_colwidth', None)\n",
    "pd.set_option('display.width', None)\n",
    "pd.set_option('display.max_rows', None)\n",
    "pd.set_option('display.max_columns', None)\n",
    "\n",
    "print(df.head())"
   ]
  },
  {
   "cell_type": "markdown",
   "metadata": {},
   "source": [
    "위치(발송처) 정보 분리"
   ]
  },
  {
   "cell_type": "code",
   "execution_count": null,
   "metadata": {},
   "outputs": [],
   "source": [
    "df=df.drop(0)\n",
    "df=df.reset_index(drop=True)\n",
    "\n",
    "df=df.dropna()\n",
    "df = df.drop_duplicates()\n",
    "df['number']=pd.to_numeric(df['number'])\n",
    "df = df.sort_values(by='number', ascending=True)\n",
    "df = df.set_index('number')\n",
    "\n",
    "def extract_location(text):\n",
    "    if text is None:\n",
    "        return text, 'NaN'\n",
    "    start=text.rfind('[')\n",
    "    end=text.rfind(']')\n",
    "    if start!=-1 and end!=-1:\n",
    "        location=text[start+1:end]\n",
    "        text=text[:start]+text[end+1:]\n",
    "    else:\n",
    "        location='NaN'\n",
    "    return text.strip(), location\n",
    "\n",
    "df[['text', 'location']] = df['text'].apply(lambda x: pd.Series(extract_location(x)))\n",
    "\n",
    "pd.set_option('display.max_colwidth', None)\n",
    "\n",
    "print(\"Df has completed.\")"
   ]
  }
 ],
 "metadata": {
  "kernelspec": {
   "display_name": "base",
   "language": "python",
   "name": "python3"
  },
  "language_info": {
   "codemirror_mode": {
    "name": "ipython",
    "version": 3
   },
   "file_extension": ".py",
   "mimetype": "text/x-python",
   "name": "python",
   "nbconvert_exporter": "python",
   "pygments_lexer": "ipython3",
   "version": "3.11.5"
  }
 },
 "nbformat": 4,
 "nbformat_minor": 2
}
